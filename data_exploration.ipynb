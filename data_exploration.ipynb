{
 "cells": [
  {
   "cell_type": "code",
   "execution_count": 3,
   "metadata": {},
   "outputs": [
    {
     "name": "stderr",
     "output_type": "stream",
     "text": [
      "/var/folders/zn/8wc8tsvd7djdfqkp66ty2_gr0000gp/T/ipykernel_63016/4218187810.py:4: DtypeWarning: Columns (29,30,31,32,33,34,35,36,37,38,39,40,41) have mixed types. Specify dtype option on import or set low_memory=False.\n",
      "  df = pd.read_csv(filename, sep=\"\\t\")\n"
     ]
    }
   ],
   "source": [
    "import pandas as pd\n",
    "\n",
    "filename = \"/Users/lucasmarch/Projects/AcousticBrainz/acousticbrainz-mediaeval-allmusic-train.tsv\"\n",
    "df = pd.read_csv(filename, sep=\"\\t\")"
   ]
  },
  {
   "cell_type": "code",
   "execution_count": 4,
   "metadata": {},
   "outputs": [
    {
     "data": {
      "text/html": [
       "<div>\n",
       "<style scoped>\n",
       "    .dataframe tbody tr th:only-of-type {\n",
       "        vertical-align: middle;\n",
       "    }\n",
       "\n",
       "    .dataframe tbody tr th {\n",
       "        vertical-align: top;\n",
       "    }\n",
       "\n",
       "    .dataframe thead th {\n",
       "        text-align: right;\n",
       "    }\n",
       "</style>\n",
       "<table border=\"1\" class=\"dataframe\">\n",
       "  <thead>\n",
       "    <tr style=\"text-align: right;\">\n",
       "      <th></th>\n",
       "      <th>recordingmbid</th>\n",
       "      <th>releasegroupmbid</th>\n",
       "      <th>genre1</th>\n",
       "      <th>genre2</th>\n",
       "      <th>genre3</th>\n",
       "      <th>genre4</th>\n",
       "      <th>genre5</th>\n",
       "      <th>genre6</th>\n",
       "      <th>genre7</th>\n",
       "      <th>genre8</th>\n",
       "      <th>...</th>\n",
       "      <th>genre31</th>\n",
       "      <th>genre32</th>\n",
       "      <th>genre33</th>\n",
       "      <th>genre34</th>\n",
       "      <th>genre35</th>\n",
       "      <th>genre36</th>\n",
       "      <th>genre37</th>\n",
       "      <th>genre38</th>\n",
       "      <th>genre39</th>\n",
       "      <th>genre40</th>\n",
       "    </tr>\n",
       "  </thead>\n",
       "  <tbody>\n",
       "    <tr>\n",
       "      <th>0</th>\n",
       "      <td>6eafad9e-3e4e-4af7-ad2c-dba94cfedecf</td>\n",
       "      <td>fa7475c1-78a3-31e3-8b27-ca4fef89ba12</td>\n",
       "      <td>stage &amp; screen</td>\n",
       "      <td>stage &amp; screen---film music</td>\n",
       "      <td>stage &amp; screen---soundtracks</td>\n",
       "      <td>stage &amp; screen---television music</td>\n",
       "      <td>stage &amp; screen---tv soundtracks</td>\n",
       "      <td>NaN</td>\n",
       "      <td>NaN</td>\n",
       "      <td>NaN</td>\n",
       "      <td>...</td>\n",
       "      <td>NaN</td>\n",
       "      <td>NaN</td>\n",
       "      <td>NaN</td>\n",
       "      <td>NaN</td>\n",
       "      <td>NaN</td>\n",
       "      <td>NaN</td>\n",
       "      <td>NaN</td>\n",
       "      <td>NaN</td>\n",
       "      <td>NaN</td>\n",
       "      <td>NaN</td>\n",
       "    </tr>\n",
       "    <tr>\n",
       "      <th>1</th>\n",
       "      <td>bd523884-e1b7-4401-b882-743356fc0e33</td>\n",
       "      <td>a3fb800d-a878-3406-8b62-d2b84cfba36e</td>\n",
       "      <td>pop/rock</td>\n",
       "      <td>NaN</td>\n",
       "      <td>NaN</td>\n",
       "      <td>NaN</td>\n",
       "      <td>NaN</td>\n",
       "      <td>NaN</td>\n",
       "      <td>NaN</td>\n",
       "      <td>NaN</td>\n",
       "      <td>...</td>\n",
       "      <td>NaN</td>\n",
       "      <td>NaN</td>\n",
       "      <td>NaN</td>\n",
       "      <td>NaN</td>\n",
       "      <td>NaN</td>\n",
       "      <td>NaN</td>\n",
       "      <td>NaN</td>\n",
       "      <td>NaN</td>\n",
       "      <td>NaN</td>\n",
       "      <td>NaN</td>\n",
       "    </tr>\n",
       "    <tr>\n",
       "      <th>2</th>\n",
       "      <td>68a5a5c2-4238-4c0a-a24f-10bbcdb192dd</td>\n",
       "      <td>f84f027e-9a08-48a9-8fa0-a50ae546e9a5</td>\n",
       "      <td>pop/rock</td>\n",
       "      <td>pop/rock---adult alternative pop/rock</td>\n",
       "      <td>pop/rock---alternative/indie rock</td>\n",
       "      <td>NaN</td>\n",
       "      <td>NaN</td>\n",
       "      <td>NaN</td>\n",
       "      <td>NaN</td>\n",
       "      <td>NaN</td>\n",
       "      <td>...</td>\n",
       "      <td>NaN</td>\n",
       "      <td>NaN</td>\n",
       "      <td>NaN</td>\n",
       "      <td>NaN</td>\n",
       "      <td>NaN</td>\n",
       "      <td>NaN</td>\n",
       "      <td>NaN</td>\n",
       "      <td>NaN</td>\n",
       "      <td>NaN</td>\n",
       "      <td>NaN</td>\n",
       "    </tr>\n",
       "    <tr>\n",
       "      <th>3</th>\n",
       "      <td>d6be519c-a961-4873-b002-9da107cb1602</td>\n",
       "      <td>2a643301-c619-49c3-9972-931c3d683fe9</td>\n",
       "      <td>classical</td>\n",
       "      <td>classical---vocal music</td>\n",
       "      <td>NaN</td>\n",
       "      <td>NaN</td>\n",
       "      <td>NaN</td>\n",
       "      <td>NaN</td>\n",
       "      <td>NaN</td>\n",
       "      <td>NaN</td>\n",
       "      <td>...</td>\n",
       "      <td>NaN</td>\n",
       "      <td>NaN</td>\n",
       "      <td>NaN</td>\n",
       "      <td>NaN</td>\n",
       "      <td>NaN</td>\n",
       "      <td>NaN</td>\n",
       "      <td>NaN</td>\n",
       "      <td>NaN</td>\n",
       "      <td>NaN</td>\n",
       "      <td>NaN</td>\n",
       "    </tr>\n",
       "    <tr>\n",
       "      <th>4</th>\n",
       "      <td>173dc6b4-5f76-4ec7-b86c-10f864187435</td>\n",
       "      <td>4f40cf32-2680-3a23-a9d9-d0fd930db257</td>\n",
       "      <td>electronic</td>\n",
       "      <td>electronic---experimental electronic</td>\n",
       "      <td>electronic---glitch</td>\n",
       "      <td>NaN</td>\n",
       "      <td>NaN</td>\n",
       "      <td>NaN</td>\n",
       "      <td>NaN</td>\n",
       "      <td>NaN</td>\n",
       "      <td>...</td>\n",
       "      <td>NaN</td>\n",
       "      <td>NaN</td>\n",
       "      <td>NaN</td>\n",
       "      <td>NaN</td>\n",
       "      <td>NaN</td>\n",
       "      <td>NaN</td>\n",
       "      <td>NaN</td>\n",
       "      <td>NaN</td>\n",
       "      <td>NaN</td>\n",
       "      <td>NaN</td>\n",
       "    </tr>\n",
       "  </tbody>\n",
       "</table>\n",
       "<p>5 rows × 42 columns</p>\n",
       "</div>"
      ],
      "text/plain": [
       "                          recordingmbid                      releasegroupmbid  \\\n",
       "0  6eafad9e-3e4e-4af7-ad2c-dba94cfedecf  fa7475c1-78a3-31e3-8b27-ca4fef89ba12   \n",
       "1  bd523884-e1b7-4401-b882-743356fc0e33  a3fb800d-a878-3406-8b62-d2b84cfba36e   \n",
       "2  68a5a5c2-4238-4c0a-a24f-10bbcdb192dd  f84f027e-9a08-48a9-8fa0-a50ae546e9a5   \n",
       "3  d6be519c-a961-4873-b002-9da107cb1602  2a643301-c619-49c3-9972-931c3d683fe9   \n",
       "4  173dc6b4-5f76-4ec7-b86c-10f864187435  4f40cf32-2680-3a23-a9d9-d0fd930db257   \n",
       "\n",
       "           genre1                                 genre2  \\\n",
       "0  stage & screen            stage & screen---film music   \n",
       "1        pop/rock                                    NaN   \n",
       "2        pop/rock  pop/rock---adult alternative pop/rock   \n",
       "3       classical                classical---vocal music   \n",
       "4      electronic   electronic---experimental electronic   \n",
       "\n",
       "                              genre3                             genre4  \\\n",
       "0       stage & screen---soundtracks  stage & screen---television music   \n",
       "1                                NaN                                NaN   \n",
       "2  pop/rock---alternative/indie rock                                NaN   \n",
       "3                                NaN                                NaN   \n",
       "4                electronic---glitch                                NaN   \n",
       "\n",
       "                            genre5 genre6 genre7 genre8  ... genre31 genre32  \\\n",
       "0  stage & screen---tv soundtracks    NaN    NaN    NaN  ...     NaN     NaN   \n",
       "1                              NaN    NaN    NaN    NaN  ...     NaN     NaN   \n",
       "2                              NaN    NaN    NaN    NaN  ...     NaN     NaN   \n",
       "3                              NaN    NaN    NaN    NaN  ...     NaN     NaN   \n",
       "4                              NaN    NaN    NaN    NaN  ...     NaN     NaN   \n",
       "\n",
       "  genre33 genre34 genre35 genre36 genre37 genre38 genre39 genre40  \n",
       "0     NaN     NaN     NaN     NaN     NaN     NaN     NaN     NaN  \n",
       "1     NaN     NaN     NaN     NaN     NaN     NaN     NaN     NaN  \n",
       "2     NaN     NaN     NaN     NaN     NaN     NaN     NaN     NaN  \n",
       "3     NaN     NaN     NaN     NaN     NaN     NaN     NaN     NaN  \n",
       "4     NaN     NaN     NaN     NaN     NaN     NaN     NaN     NaN  \n",
       "\n",
       "[5 rows x 42 columns]"
      ]
     },
     "execution_count": 4,
     "metadata": {},
     "output_type": "execute_result"
    }
   ],
   "source": [
    "df.head()"
   ]
  },
  {
   "cell_type": "code",
   "execution_count": 5,
   "metadata": {},
   "outputs": [],
   "source": [
    "genres = df.groupby([\"genre1\"])"
   ]
  },
  {
   "cell_type": "code",
   "execution_count": 6,
   "metadata": {},
   "outputs": [
    {
     "name": "stdout",
     "output_type": "stream",
     "text": [
      "<class 'pandas.core.frame.DataFrame'>\n",
      "RangeIndex: 1353213 entries, 0 to 1353212\n",
      "Data columns (total 42 columns):\n",
      " #   Column            Non-Null Count    Dtype \n",
      "---  ------            --------------    ----- \n",
      " 0   recordingmbid     1353213 non-null  object\n",
      " 1   releasegroupmbid  1353213 non-null  object\n",
      " 2   genre1            1353213 non-null  object\n",
      " 3   genre2            1085320 non-null  object\n",
      " 4   genre3            927154 non-null   object\n",
      " 5   genre4            749633 non-null   object\n",
      " 6   genre5            589993 non-null   object\n",
      " 7   genre6            427895 non-null   object\n",
      " 8   genre7            294385 non-null   object\n",
      " 9   genre8            202361 non-null   object\n",
      " 10  genre9            133447 non-null   object\n",
      " 11  genre10           90156 non-null    object\n",
      " 12  genre11           61086 non-null    object\n",
      " 13  genre12           40649 non-null    object\n",
      " 14  genre13           27390 non-null    object\n",
      " 15  genre14           19276 non-null    object\n",
      " 16  genre15           14073 non-null    object\n",
      " 17  genre16           10290 non-null    object\n",
      " 18  genre17           8057 non-null     object\n",
      " 19  genre18           5671 non-null     object\n",
      " 20  genre19           4474 non-null     object\n",
      " 21  genre20           3607 non-null     object\n",
      " 22  genre21           2742 non-null     object\n",
      " 23  genre22           1980 non-null     object\n",
      " 24  genre23           1585 non-null     object\n",
      " 25  genre24           1323 non-null     object\n",
      " 26  genre25           1022 non-null     object\n",
      " 27  genre26           687 non-null      object\n",
      " 28  genre27           510 non-null      object\n",
      " 29  genre28           387 non-null      object\n",
      " 30  genre29           335 non-null      object\n",
      " 31  genre30           298 non-null      object\n",
      " 32  genre31           238 non-null      object\n",
      " 33  genre32           182 non-null      object\n",
      " 34  genre33           96 non-null       object\n",
      " 35  genre34           80 non-null       object\n",
      " 36  genre35           74 non-null       object\n",
      " 37  genre36           48 non-null       object\n",
      " 38  genre37           47 non-null       object\n",
      " 39  genre38           4 non-null        object\n",
      " 40  genre39           3 non-null        object\n",
      " 41  genre40           1 non-null        object\n",
      "dtypes: object(42)\n",
      "memory usage: 433.6+ MB\n"
     ]
    }
   ],
   "source": [
    "df.info()"
   ]
  },
  {
   "cell_type": "code",
   "execution_count": 7,
   "metadata": {},
   "outputs": [
    {
     "data": {
      "image/png": "[encoded data removed]",
      "text/plain": [
       "<Figure size 1000x600 with 1 Axes>"
      ]
     },
     "metadata": {},
     "output_type": "display_data"
    }
   ],
   "source": [
    "import matplotlib.pyplot as plt\n",
    "\n",
    "genre1_column = df['genre1']\n",
    "\n",
    "genre1_counts = genre1_column.value_counts()\n",
    "\n",
    "# Plot the histogram\n",
    "plt.figure(figsize=(10, 6))\n",
    "genre1_counts.plot(kind='bar')\n",
    "plt.title('Histogram of Unique String Values in \"genre1\" Column')\n",
    "plt.xlabel('Genre')\n",
    "plt.ylabel('Count')\n",
    "plt.xticks(rotation=45, ha='right')\n",
    "plt.tight_layout()\n",
    "plt.show()"
   ]
  },
  {
   "cell_type": "markdown",
   "metadata": {},
   "source": []
  },
  {
   "cell_type": "code",
   "execution_count": 8,
   "metadata": {},
   "outputs": [
    {
     "data": {
      "text/plain": [
       "releasegroupmbid\n",
       "f72954d9-0467-48d6-ab97-369faa02c825    2605\n",
       "3ea5428d-1d2b-35ee-bbb4-5fb7171a7269    2139\n",
       "0eb70f80-7d09-4554-8b54-ebc157098ab6    1532\n",
       "e5aa26a6-bc4e-4bcc-9e79-9ebb26d4de57    1058\n",
       "2ec35fc4-6797-3324-b775-9a3df3d4723a     777\n",
       "                                        ... \n",
       "df4fd3c7-6408-49c3-b6f1-f7a89bed0156       1\n",
       "f03e720b-abf4-3b63-897e-f7d05d46fc95       1\n",
       "25b71a61-e944-3487-a664-49ce546ee0f9       1\n",
       "9f440618-6a54-436f-ac79-fa2ead79d47e       1\n",
       "d8cb0a94-d0b1-3b85-8f0b-0b7e8e03da6a       1\n",
       "Name: count, Length: 163654, dtype: int64"
      ]
     },
     "execution_count": 8,
     "metadata": {},
     "output_type": "execute_result"
    }
   ],
   "source": [
    "release_group = df[\"releasegroupmbid\"]\n",
    "release_group.value_counts()"
   ]
  },
  {
   "cell_type": "code",
   "execution_count": 14,
   "metadata": {},
   "outputs": [
    {
     "data": {
      "text/plain": [
       "163654"
      ]
     },
     "execution_count": 14,
     "metadata": {},
     "output_type": "execute_result"
    }
   ],
   "source": [
    "unique_values = release_group.unique().tolist()\n",
    "len(unique_values)"
   ]
  },
  {
   "cell_type": "code",
   "execution_count": null,
   "metadata": {},
   "outputs": [],
   "source": []
  }
 ],
 "metadata": {
  "kernelspec": {
   "display_name": "genre_recognition",
   "language": "python",
   "name": "python3"
  },
  "language_info": {
   "codemirror_mode": {
    "name": "ipython",
    "version": 3
   },
   "file_extension": ".py",
   "mimetype": "text/x-python",
   "name": "python",
   "nbconvert_exporter": "python",
   "pygments_lexer": "ipython3",
   "version": "3.10.14"
  }
 },
 "nbformat": 4,
 "nbformat_minor": 2
}
